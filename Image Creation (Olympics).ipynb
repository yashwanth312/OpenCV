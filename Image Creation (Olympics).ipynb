{
 "cells": [
  {
   "cell_type": "code",
   "execution_count": 5,
   "metadata": {},
   "outputs": [],
   "source": [
    "import numpy as np\n",
    "import cv2"
   ]
  },
  {
   "cell_type": "code",
   "execution_count": 6,
   "metadata": {},
   "outputs": [],
   "source": [
    "#Declaring an array (white board)\n",
    "a = np.ones((300,400,3))"
   ]
  },
  {
   "cell_type": "code",
   "execution_count": 7,
   "metadata": {},
   "outputs": [],
   "source": [
    "#Drawing Olympic rings on the declared array \n",
    "circle1 = cv2.circle(a , (90,150) , 50 , [255,0,0] , 5)\n",
    "circle2 = cv2.circle(circle1 , (210,150) , 50 , [0,0,0] , 5)\n",
    "circle3 = cv2.circle(circle2 , (330,150) , 50 , [0,0,255] , 5)\n",
    "circle4 = cv2.circle(circle3 , (150,200),50,[0,255,255],5)\n",
    "circle5 = cv2.circle(circle4 , (270,200),50,[0,255,0],5)"
   ]
  },
  {
   "cell_type": "code",
   "execution_count": 8,
   "metadata": {},
   "outputs": [],
   "source": [
    "cv2.imshow(\"pic\" , circle5)\n",
    "cv2.waitKey()\n",
    "cv2.destroyAllWindows()"
   ]
  },
  {
   "cell_type": "code",
   "execution_count": null,
   "metadata": {},
   "outputs": [],
   "source": []
  }
 ],
 "metadata": {
  "kernelspec": {
   "display_name": "Python 3",
   "language": "python",
   "name": "python3"
  },
  "language_info": {
   "codemirror_mode": {
    "name": "ipython",
    "version": 3
   },
   "file_extension": ".py",
   "mimetype": "text/x-python",
   "name": "python",
   "nbconvert_exporter": "python",
   "pygments_lexer": "ipython3",
   "version": "3.7.6"
  }
 },
 "nbformat": 4,
 "nbformat_minor": 4
}
